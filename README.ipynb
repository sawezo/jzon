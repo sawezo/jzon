{
 "cells": [
  {
   "cell_type": "markdown",
   "id": "c4e2d715",
   "metadata": {},
   "source": [
    "# ```jzon```"
   ]
  },
  {
   "cell_type": "markdown",
   "id": "8e054cfb",
   "metadata": {},
   "source": [
    "## Contents:\n",
    "* [Description](#description)\n",
    "* [Breakdown](#breakdown)\n",
    "* [Exploration](#exploration)\n",
    "\n",
    "&#10071;: <b>Note that 'Exploration' functionality is still in development.</b>"
   ]
  },
  {
   "cell_type": "markdown",
   "id": "87c80317",
   "metadata": {},
   "source": [
    "## Setup"
   ]
  },
  {
   "cell_type": "code",
   "execution_count": null,
   "id": "2a6e0356",
   "metadata": {
    "ExecuteTime": {
     "end_time": "2021-10-27T19:41:47.465476Z",
     "start_time": "2021-10-27T19:41:46.984891Z"
    }
   },
   "outputs": [],
   "source": [
    "# standard\n",
    "import sys\n",
    "\n",
    "# data science\n",
    "import pandas as pd\n",
    "\n",
    "# module\n",
    "from src import breakdown, merge"
   ]
  },
  {
   "cell_type": "markdown",
   "id": "04ccad69",
   "metadata": {},
   "source": [
    "## Description\n",
    "<a class=\"anchor\" id=\"description\"></a>"
   ]
  },
  {
   "cell_type": "markdown",
   "id": "8c40d408",
   "metadata": {},
   "source": [
    "This module was designed to help you handle JSON files. Though there exists some functionality in common packages to help handle ```.json``` files, there are many cases where existing functionality is not flexible. \n",
    "\n",
    "The current implementation helps you explore and break down deeply nested files into individual tables. Here 'nested' not only refers to nested objects (```{\"a\":{\"b\":\"c\"}}```) but also nested arrays (```{\"a\":{\"b\":[\"c\"]}```) and complex files with different types in arrays. This is important because existing functionality (e.g. Panda's ```DataFrame.json_normalize()```) and would likely either break or improperly convert data of such forms.\n",
    "\n",
    "Future implementation will also enable the key mapping and exploration of complex files by providing functions to generate graph diagrams of keys and their respective value types over all documents.  "
   ]
  },
  {
   "cell_type": "markdown",
   "id": "8fcfc8f3",
   "metadata": {},
   "source": [
    "## Breakdown \n",
    "<a class=\"anchor\" id=\"breakdown\"></a>"
   ]
  },
  {
   "cell_type": "markdown",
   "id": "d74d1da7",
   "metadata": {},
   "source": [
    "### Getting Atomic Tables"
   ]
  },
  {
   "cell_type": "markdown",
   "id": "347a6546",
   "metadata": {},
   "source": [
    "Say we want to break this down into flat files, with each subarray represented as a new table (to avoid extremely complex files). In this case, Panda's ```json_normalize()``` functionality won't unpack the nested subarrays. Even if we add specific commands to unpack one of them through all levels of the nested hierarchy, it wouldn't do so as desired."
   ]
  },
  {
   "cell_type": "markdown",
   "id": "f53c5fd6",
   "metadata": {},
   "source": [
    "This is easiest to see with mock JSON data that has a slightly confusing schema (noting there are much more complex formats in the wild!):"
   ]
  },
  {
   "cell_type": "code",
   "execution_count": null,
   "id": "68d062c8",
   "metadata": {
    "ExecuteTime": {
     "end_time": "2021-10-27T19:41:50.527173Z",
     "start_time": "2021-10-27T19:41:50.521468Z"
    },
    "code_folding": [
     1
    ]
   },
   "outputs": [],
   "source": [
    "data = \\\n",
    "[{'animals': [{'name': 'faith', 'type': 'cat'},\n",
    "              {'name': 'shadow', 'type': 'doge'}],\n",
    "  'date': '2021-01-01',\n",
    "  'other': {'mood': 'happy'},\n",
    "  'people': [{'interests': [{'geetar': {'favorite': 'van halen',\n",
    "                                        'type': 'frankenstrat'}},\n",
    "                            'kittens',\n",
    "                            'sillyness'],\n",
    "              'name': 'dave'},\n",
    "             {'interests': ['horses', 'painting', 'mma'], 'name': 'becca'}],\n",
    "  'user_id': 'FDSA1234'},\n",
    " {'animals': [{'name': 'felix', 'type': 'ardvark'}],\n",
    "  'date': '2021-01-02',\n",
    "  'people': [{'interests': ['motorcycles',\n",
    "                            {'geetar': {'favorite': 'hendrix',\n",
    "                                        'type': 'fender'}}],\n",
    "              'name': 'mike'},\n",
    "             {'interests': ['reading', 'writing'], 'name': 'tom'}],\n",
    "  'user_id': 'ASDF4321'}]"
   ]
  },
  {
   "cell_type": "code",
   "execution_count": null,
   "id": "5480721e",
   "metadata": {
    "ExecuteTime": {
     "end_time": "2021-10-27T19:41:50.856244Z",
     "start_time": "2021-10-27T19:41:50.830965Z"
    }
   },
   "outputs": [],
   "source": [
    "pd.json_normalize(data) # people/animals still compacted"
   ]
  },
  {
   "cell_type": "markdown",
   "id": "ec86629c",
   "metadata": {},
   "source": [
    "This is where the current module comes in."
   ]
  },
  {
   "cell_type": "code",
   "execution_count": null,
   "id": "06ecb444",
   "metadata": {
    "ExecuteTime": {
     "end_time": "2021-10-27T19:41:51.474909Z",
     "start_time": "2021-10-27T19:41:51.416989Z"
    },
    "code_folding": [],
    "scrolled": true
   },
   "outputs": [],
   "source": [
    "table_tag2df = breakdown.dev(data)\n",
    "\n",
    "print(list(table_tag2df.keys())) # the atomic tables that were created \n",
    "display(table_tag2df[\"root_0<animals_1\"]) # an example"
   ]
  },
  {
   "cell_type": "markdown",
   "id": "ec21f441",
   "metadata": {},
   "source": [
    "### Getting Merged Tables for Each Table Chain"
   ]
  },
  {
   "cell_type": "markdown",
   "id": "c2ad8dfc",
   "metadata": {},
   "source": [
    "What if we want to do some cleaning and get rid of all of the individual atomic tables? To do this, we can merge them together. This is done so that each unique 'chain' from root node 'A' to the deepest child nodes are created. Note that redundant chains are ignored. In other words, a merge of parent table A and child table B will not be created if there is also a merge of parent table A with child table B that has child table C. However, if there is another possible child of table B (call it C2), then two merges would be made: A-B-C and A-B-C2. "
   ]
  },
  {
   "cell_type": "code",
   "execution_count": null,
   "id": "768dedff",
   "metadata": {
    "ExecuteTime": {
     "end_time": "2021-10-27T19:41:54.511943Z",
     "start_time": "2021-10-27T19:41:54.477082Z"
    }
   },
   "outputs": [],
   "source": [
    "# merging\n",
    "tag2df = merge.merge_tables(table_tag2df)"
   ]
  },
  {
   "cell_type": "code",
   "execution_count": null,
   "id": "25c39f55",
   "metadata": {
    "ExecuteTime": {
     "end_time": "2021-10-27T19:41:55.102492Z",
     "start_time": "2021-10-27T19:41:55.083911Z"
    }
   },
   "outputs": [],
   "source": [
    "# the resulting tables\n",
    "for merged_tag, merged_tag_df in tag2df.items():\n",
    "    print(f\"Merged table tag: {merged_tag}\")\n",
    "    display(merged_tag_df.head(3))"
   ]
  },
  {
   "cell_type": "code",
   "execution_count": null,
   "id": "302968a0",
   "metadata": {
    "ExecuteTime": {
     "end_time": "2021-10-27T19:41:55.464109Z",
     "start_time": "2021-10-27T19:41:55.450644Z"
    }
   },
   "outputs": [],
   "source": [
    "# compare with the original data\n",
    "pd.DataFrame(data)"
   ]
  },
  {
   "cell_type": "markdown",
   "id": "c5c17425",
   "metadata": {},
   "source": [
    "Each merged table is associated with a compound tag of a specific format:\n",
    "- the ```<``` delimiter separates a parent (left) from a child (right) table where the right table is a subarray under the parent table (```{a:[{b:c}]}``` $\\rightarrow$ ```a<b```)\n",
    "    - to track what index of the array the row is respective to, there is a corresponding ```subarray_IDX``` feature\n",
    "    - the ```FK``` of the child table on the right of a ```<``` maps to the PK of the table on the left of a ```<``` (the parent table)\n",
    "- the items inbetween the ```<``` delimiters give lower-level table details\n",
    "    - the left of a ```_``` is the 'overall feature' the table describes, being the key in the original object that maps to the subarray of information the table represents \n",
    "    - the right is the subarray 'level'\n",
    "- a ```.``` in a column name indicates that the feature was found in a nested object (```{a:{b:c}}``` $\\rightarrow$ ```a.b=c```)"
   ]
  },
  {
   "cell_type": "markdown",
   "id": "7a413bc9",
   "metadata": {},
   "source": [
    "## Exploration (in progress &#129302;)\n",
    "<a class=\"anchor\" id=\"exploration\"></a>"
   ]
  },
  {
   "cell_type": "markdown",
   "id": "40d7ce6a",
   "metadata": {},
   "source": [
    "There is also functionality to explore the json file structure some more. For example, we can compile keys or values over the data. "
   ]
  },
  {
   "cell_type": "code",
   "execution_count": null,
   "id": "3945dae5",
   "metadata": {
    "ExecuteTime": {
     "end_time": "2021-10-19T20:23:12.243349Z",
     "start_time": "2021-10-19T20:23:12.239846Z"
    }
   },
   "outputs": [],
   "source": [
    "keys, level2keys, key2values = explore.compile_nested_keys(data)"
   ]
  },
  {
   "cell_type": "code",
   "execution_count": null,
   "id": "f9b8c6bc",
   "metadata": {
    "ExecuteTime": {
     "end_time": "2021-10-19T20:23:12.607114Z",
     "start_time": "2021-10-19T20:23:12.602149Z"
    }
   },
   "outputs": [],
   "source": [
    "key2values"
   ]
  },
  {
   "cell_type": "code",
   "execution_count": null,
   "id": "eb59c07d",
   "metadata": {
    "ExecuteTime": {
     "end_time": "2021-10-19T20:23:13.370041Z",
     "start_time": "2021-10-19T20:23:13.365659Z"
    }
   },
   "outputs": [],
   "source": [
    "level2keys"
   ]
  },
  {
   "cell_type": "code",
   "execution_count": null,
   "id": "3a93e94b",
   "metadata": {
    "ExecuteTime": {
     "end_time": "2021-10-05T17:54:56.311571Z",
     "start_time": "2021-10-05T17:54:56.269593Z"
    }
   },
   "outputs": [],
   "source": [
    "# Seeing what features all data contracts have. \n",
    "# Starting by seeing how deep the deepest index goes over all contract data. \n",
    "deepest_key_index = max([max(contract2level2keys[contract].keys()) \n",
    "                         for contract in contract2DATA.keys()])\n",
    "constant_features = CheckConstantFeatures(contract2DATA, contract2level2keys, max_level=deepest_key_index)\n",
    "\n",
    "print(\"\\n\\n There are {num} unique constant features \\\n",
    "(present in every file) in total.\".format(num=len(constant_features)))"
   ]
  },
  {
   "cell_type": "code",
   "execution_count": null,
   "id": "51034bad",
   "metadata": {
    "ExecuteTime": {
     "end_time": "2021-10-05T17:54:56.524536Z",
     "start_time": "2021-10-05T17:54:56.491349Z"
    }
   },
   "outputs": [],
   "source": [
    "# Filtering out contracts based on data we want to see, to get counts of how often each attribute appears. \n",
    "remaining_features = [feature for feature in unique_keys \n",
    "                      if feature not in constant_features]\n",
    "remaining = [feature for feature in remaining_features \n",
    "             if feature not in attributes] # Already seen the second list. \n",
    "\n",
    "remaining_attribute2tally = CountFeatureOccurances(remaining, contract2DATA, contract2keys)\n",
    "\n",
    "\n",
    "# Converting the counts to percentages. \n",
    "remaining_attribute2tally_percentages = {attribute:[count, round((count/1547)*100, 2)] \n",
    "                                 for attribute, count in remaining_attribute2tally.items()}\n",
    "remaining_attribute2tally_percentages"
   ]
  },
  {
   "cell_type": "code",
   "execution_count": null,
   "id": "00caa2a2",
   "metadata": {},
   "outputs": [],
   "source": [
    "ShowUniqueValuesByKey"
   ]
  },
  {
   "cell_type": "code",
   "execution_count": null,
   "id": "b180311f",
   "metadata": {},
   "outputs": [],
   "source": [
    "# Setting up the feature tree structure to visualize. \n",
    "tree = CompileTreeStructure(contract2DATA, consistent_structure=True, root_text=\"RECIPIENT\")\n",
    "\n",
    "# Drawing the tree.\n",
    "graph = pydot.Dot(graph_type='digraph', rankdir=\"LR\", prog=\"neato\", \n",
    "                  label=\"Key Structure in Data\", labelloc=\"top\")\n",
    "\n",
    "DrawTree(graph, tree)\n",
    "\n",
    "# Showing and saving the tree. \n",
    "ShowTree(graph)\n",
    "graph.write_png('../Images/USAS_structure.png') # Saving the tree to a file. "
   ]
  },
  {
   "cell_type": "code",
   "execution_count": null,
   "id": "4a89337a",
   "metadata": {},
   "outputs": [],
   "source": [
    "# Setting up the feature tree structure to visualize. \n",
    "tree = CompileTreeStructure(contract2DATA, consistent_structure=True, root_text=\"RECIPIENT\")\n",
    "\n",
    "# Drawing the tree.\n",
    "graph = pydot.Dot(graph_type='digraph', rankdir=\"LR\", prog=\"neato\", \n",
    "                  label=\"Key Structure in Data\", labelloc=\"top\")\n",
    "\n",
    "keys_to_show_values_for = [\"business_types\"]\n",
    "features_to_show_values_for2values = {key:value for key, value in key2value_list.items() \n",
    "                                       if key in keys_to_show_values_for}\n",
    "DrawTree(graph, tree, features_to_show_values_for2values=features_to_show_values_for2values)\n",
    "\n",
    "# Showing and saving the tree. \n",
    "ShowTree(graph)\n",
    "graph.write_png('../Images/.png') # Saving the tree to a file. "
   ]
  }
 ],
 "metadata": {
  "kernelspec": {
   "display_name": "Python [conda env:ppr]",
   "language": "python",
   "name": "conda-env-ppr-py"
  },
  "language_info": {
   "codemirror_mode": {
    "name": "ipython",
    "version": 3
   },
   "file_extension": ".py",
   "mimetype": "text/x-python",
   "name": "python",
   "nbconvert_exporter": "python",
   "pygments_lexer": "ipython3",
   "version": "3.9.7"
  },
  "latex_envs": {
   "LaTeX_envs_menu_present": true,
   "autoclose": false,
   "autocomplete": true,
   "bibliofile": "biblio.bib",
   "cite_by": "apalike",
   "current_citInitial": 1,
   "eqLabelWithNumbers": true,
   "eqNumInitial": 1,
   "hotkeys": {
    "equation": "Ctrl-E",
    "itemize": "Ctrl-I"
   },
   "labels_anchors": false,
   "latex_user_defs": false,
   "report_style_numbering": false,
   "user_envs_cfg": false
  },
  "toc": {
   "base_numbering": 1,
   "nav_menu": {},
   "number_sections": true,
   "sideBar": true,
   "skip_h1_title": false,
   "title_cell": "Table of Contents",
   "title_sidebar": "Contents",
   "toc_cell": false,
   "toc_position": {},
   "toc_section_display": true,
   "toc_window_display": false
  }
 },
 "nbformat": 4,
 "nbformat_minor": 5
}
