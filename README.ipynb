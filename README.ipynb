{
 "cells": [
  {
   "cell_type": "markdown",
   "id": "c4e2d715",
   "metadata": {},
   "source": [
    "# ```jzon```"
   ]
  },
  {
   "cell_type": "markdown",
   "id": "8e054cfb",
   "metadata": {},
   "source": [
    "## Contents:\n",
    "* [Description](#description)\n",
    "* [Breakdown](#breakdown)\n",
    "* [Exploration](#exploration)\n",
    "\n",
    "&#10071;: <b>Note that 'Exploration' functionality is still in development.</b>"
   ]
  },
  {
   "cell_type": "markdown",
   "id": "87c80317",
   "metadata": {},
   "source": [
    "## Setup"
   ]
  },
  {
   "cell_type": "code",
   "execution_count": 3,
   "id": "2a6e0356",
   "metadata": {
    "ExecuteTime": {
     "end_time": "2021-10-27T19:41:47.465476Z",
     "start_time": "2021-10-27T19:41:46.984891Z"
    }
   },
   "outputs": [],
   "source": [
    "# standard\n",
    "import sys\n",
    "\n",
    "# data science\n",
    "import pandas as pd\n",
    "\n",
    "# module\n",
    "from src import breakdown, merge"
   ]
  },
  {
   "cell_type": "markdown",
   "id": "04ccad69",
   "metadata": {},
   "source": [
    "## Description\n",
    "<a class=\"anchor\" id=\"description\"></a>"
   ]
  },
  {
   "cell_type": "markdown",
   "id": "8c40d408",
   "metadata": {},
   "source": [
    "This module was designed to help you handle JSON files. Though there exists some functionality in common packages to help handle ```.json``` files, there are many cases where existing functionality is not flexible. \n",
    "\n",
    "The current implementation helps you explore and break down deeply nested files into individual tables. Here 'nested' not only refers to nested objects (```{\"a\":{\"b\":\"c\"}}```) but also nested arrays (```{\"a\":{\"b\":[\"c\"]}```) and complex files with different types in arrays. This is important because existing functionality (e.g. Panda's ```DataFrame.json_normalize()```) and would likely either break or improperly convert data of such forms.\n",
    "\n",
    "Future implementation will also enable the key mapping and exploration of complex files by providing functions to generate graph diagrams of keys and their respective value types over all documents.  "
   ]
  },
  {
   "cell_type": "markdown",
   "id": "8fcfc8f3",
   "metadata": {},
   "source": [
    "## Breakdown \n",
    "<a class=\"anchor\" id=\"breakdown\"></a>"
   ]
  },
  {
   "cell_type": "markdown",
   "id": "d74d1da7",
   "metadata": {},
   "source": [
    "### Getting Atomic Tables"
   ]
  },
  {
   "cell_type": "markdown",
   "id": "347a6546",
   "metadata": {},
   "source": [
    "Say we want to break this down into flat files, with each subarray represented as a new table (to avoid extremely complex files). In this case, Panda's ```json_normalize()``` functionality won't unpack the nested subarrays. Even if we add specific commands to unpack one of them through all levels of the nested hierarchy, it wouldn't do so as desired."
   ]
  },
  {
   "cell_type": "markdown",
   "id": "f53c5fd6",
   "metadata": {},
   "source": [
    "This is easiest to see with mock JSON data that has a slightly confusing schema (noting there are much more complex formats in the wild!):"
   ]
  },
  {
   "cell_type": "code",
   "execution_count": 4,
   "id": "68d062c8",
   "metadata": {
    "ExecuteTime": {
     "end_time": "2021-10-27T19:41:50.527173Z",
     "start_time": "2021-10-27T19:41:50.521468Z"
    },
    "code_folding": [
     1
    ]
   },
   "outputs": [],
   "source": [
    "data = \\\n",
    "[{'animals': [{'name': 'faith', 'type': 'cat'},\n",
    "              {'name': 'shadow', 'type': 'doge'}],\n",
    "  'date': '2021-01-01',\n",
    "  'other': {'mood': 'happy'},\n",
    "  'people': [{'interests': [{'geetar': {'favorite': 'van halen',\n",
    "                                        'type': 'frankenstrat'}},\n",
    "                            'kittens',\n",
    "                            'sillyness'],\n",
    "              'name': 'dave'},\n",
    "             {'interests': ['horses', 'painting', 'mma'], 'name': 'becca'}],\n",
    "  'user_id': 'FDSA1234'},\n",
    " {'animals': [{'name': 'felix', 'type': 'ardvark'}],\n",
    "  'date': '2021-01-02',\n",
    "  'people': [{'interests': ['motorcycles',\n",
    "                            {'geetar': {'favorite': 'hendrix',\n",
    "                                        'type': 'fender'}}],\n",
    "              'name': 'mike'},\n",
    "             {'interests': ['reading', 'writing'], 'name': 'tom'}],\n",
    "  'user_id': 'ASDF4321'}]"
   ]
  },
  {
   "cell_type": "code",
   "execution_count": 5,
   "id": "5480721e",
   "metadata": {
    "ExecuteTime": {
     "end_time": "2021-10-27T19:41:50.856244Z",
     "start_time": "2021-10-27T19:41:50.830965Z"
    }
   },
   "outputs": [
    {
     "data": {
      "text/html": [
       "<div>\n",
       "<style scoped>\n",
       "    .dataframe tbody tr th:only-of-type {\n",
       "        vertical-align: middle;\n",
       "    }\n",
       "\n",
       "    .dataframe tbody tr th {\n",
       "        vertical-align: top;\n",
       "    }\n",
       "\n",
       "    .dataframe thead th {\n",
       "        text-align: right;\n",
       "    }\n",
       "</style>\n",
       "<table border=\"1\" class=\"dataframe\">\n",
       "  <thead>\n",
       "    <tr style=\"text-align: right;\">\n",
       "      <th></th>\n",
       "      <th>animals</th>\n",
       "      <th>date</th>\n",
       "      <th>people</th>\n",
       "      <th>user_id</th>\n",
       "      <th>other.mood</th>\n",
       "    </tr>\n",
       "  </thead>\n",
       "  <tbody>\n",
       "    <tr>\n",
       "      <th>0</th>\n",
       "      <td>[{'name': 'faith', 'type': 'cat'}, {'name': 's...</td>\n",
       "      <td>2021-01-01</td>\n",
       "      <td>[{'interests': [{'geetar': {'favorite': 'van h...</td>\n",
       "      <td>FDSA1234</td>\n",
       "      <td>happy</td>\n",
       "    </tr>\n",
       "    <tr>\n",
       "      <th>1</th>\n",
       "      <td>[{'name': 'felix', 'type': 'ardvark'}]</td>\n",
       "      <td>2021-01-02</td>\n",
       "      <td>[{'interests': ['motorcycles', {'geetar': {'fa...</td>\n",
       "      <td>ASDF4321</td>\n",
       "      <td>NaN</td>\n",
       "    </tr>\n",
       "  </tbody>\n",
       "</table>\n",
       "</div>"
      ],
      "text/plain": [
       "                                             animals        date  \\\n",
       "0  [{'name': 'faith', 'type': 'cat'}, {'name': 's...  2021-01-01   \n",
       "1             [{'name': 'felix', 'type': 'ardvark'}]  2021-01-02   \n",
       "\n",
       "                                              people   user_id other.mood  \n",
       "0  [{'interests': [{'geetar': {'favorite': 'van h...  FDSA1234      happy  \n",
       "1  [{'interests': ['motorcycles', {'geetar': {'fa...  ASDF4321        NaN  "
      ]
     },
     "execution_count": 5,
     "metadata": {},
     "output_type": "execute_result"
    }
   ],
   "source": [
    "pd.json_normalize(data) # people/animals still compacted"
   ]
  },
  {
   "cell_type": "markdown",
   "id": "ec86629c",
   "metadata": {},
   "source": [
    "This is where the current module comes in."
   ]
  },
  {
   "cell_type": "code",
   "execution_count": 6,
   "id": "06ecb444",
   "metadata": {
    "ExecuteTime": {
     "end_time": "2021-10-27T19:41:51.474909Z",
     "start_time": "2021-10-27T19:41:51.416989Z"
    },
    "code_folding": [],
    "scrolled": true
   },
   "outputs": [
    {
     "name": "stdout",
     "output_type": "stream",
     "text": [
      "['root_0', 'root_0<animals_1', 'root_0<people_1', 'root_0<people_1<interests_2']\n"
     ]
    },
    {
     "data": {
      "text/html": [
       "<div>\n",
       "<style scoped>\n",
       "    .dataframe tbody tr th:only-of-type {\n",
       "        vertical-align: middle;\n",
       "    }\n",
       "\n",
       "    .dataframe tbody tr th {\n",
       "        vertical-align: top;\n",
       "    }\n",
       "\n",
       "    .dataframe thead th {\n",
       "        text-align: right;\n",
       "    }\n",
       "</style>\n",
       "<table border=\"1\" class=\"dataframe\">\n",
       "  <thead>\n",
       "    <tr style=\"text-align: right;\">\n",
       "      <th></th>\n",
       "      <th>PK</th>\n",
       "      <th>FK</th>\n",
       "      <th>animals.subarray_IDX</th>\n",
       "      <th>animals.name</th>\n",
       "      <th>animals.type</th>\n",
       "    </tr>\n",
       "  </thead>\n",
       "  <tbody>\n",
       "    <tr>\n",
       "      <th>0</th>\n",
       "      <td>0</td>\n",
       "      <td>0</td>\n",
       "      <td>0</td>\n",
       "      <td>faith</td>\n",
       "      <td>cat</td>\n",
       "    </tr>\n",
       "    <tr>\n",
       "      <th>1</th>\n",
       "      <td>1</td>\n",
       "      <td>0</td>\n",
       "      <td>1</td>\n",
       "      <td>shadow</td>\n",
       "      <td>doge</td>\n",
       "    </tr>\n",
       "    <tr>\n",
       "      <th>2</th>\n",
       "      <td>2</td>\n",
       "      <td>1</td>\n",
       "      <td>0</td>\n",
       "      <td>felix</td>\n",
       "      <td>ardvark</td>\n",
       "    </tr>\n",
       "  </tbody>\n",
       "</table>\n",
       "</div>"
      ],
      "text/plain": [
       "   PK  FK  animals.subarray_IDX animals.name animals.type\n",
       "0   0   0                     0        faith          cat\n",
       "1   1   0                     1       shadow         doge\n",
       "2   2   1                     0        felix      ardvark"
      ]
     },
     "metadata": {},
     "output_type": "display_data"
    }
   ],
   "source": [
    "table_tag2df = breakdown.dev(data)\n",
    "\n",
    "print(list(table_tag2df.keys())) # the atomic tables that were created \n",
    "display(table_tag2df[\"root_0<animals_1\"]) # an example"
   ]
  },
  {
   "cell_type": "markdown",
   "id": "ec21f441",
   "metadata": {},
   "source": [
    "### Getting Merged Tables for Each Table Chain"
   ]
  },
  {
   "cell_type": "markdown",
   "id": "c2ad8dfc",
   "metadata": {},
   "source": [
    "What if we want to do some cleaning and get rid of all of the individual atomic tables? To do this, we can merge them together. This is done so that each unique 'chain' from root node 'A' to the deepest child nodes are created. Note that redundant chains are ignored. In other words, a merge of parent table A and child table B will not be created if there is also a merge of parent table A with child table B that has child table C. However, if there is another possible child of table B (call it C2), then two merges would be made: A-B-C and A-B-C2. "
   ]
  },
  {
   "cell_type": "code",
   "execution_count": 7,
   "id": "768dedff",
   "metadata": {
    "ExecuteTime": {
     "end_time": "2021-10-27T19:41:54.511943Z",
     "start_time": "2021-10-27T19:41:54.477082Z"
    }
   },
   "outputs": [
    {
     "name": "stdout",
     "output_type": "stream",
     "text": [
      "\n",
      " ✅ creating table over chain 'root_0<people_1<interests_2'\n",
      "\n",
      " ✅ creating table over chain 'root_0<animals_1'\n",
      "❌ skipping root_0<people_1 since it has subtables\n"
     ]
    }
   ],
   "source": [
    "# merging\n",
    "tag2df = merge.merge_tables(table_tag2df)"
   ]
  },
  {
   "cell_type": "code",
   "execution_count": 8,
   "id": "25c39f55",
   "metadata": {
    "ExecuteTime": {
     "end_time": "2021-10-27T19:41:55.102492Z",
     "start_time": "2021-10-27T19:41:55.083911Z"
    }
   },
   "outputs": [
    {
     "name": "stdout",
     "output_type": "stream",
     "text": [
      "Merged table tag: root_0<people_1<interests_2\n"
     ]
    },
    {
     "data": {
      "text/html": [
       "<div>\n",
       "<style scoped>\n",
       "    .dataframe tbody tr th:only-of-type {\n",
       "        vertical-align: middle;\n",
       "    }\n",
       "\n",
       "    .dataframe tbody tr th {\n",
       "        vertical-align: top;\n",
       "    }\n",
       "\n",
       "    .dataframe thead th {\n",
       "        text-align: right;\n",
       "    }\n",
       "</style>\n",
       "<table border=\"1\" class=\"dataframe\">\n",
       "  <thead>\n",
       "    <tr style=\"text-align: right;\">\n",
       "      <th></th>\n",
       "      <th>root.date</th>\n",
       "      <th>root.user_id</th>\n",
       "      <th>root.other_mood</th>\n",
       "      <th>people.subarray_IDX</th>\n",
       "      <th>people.name</th>\n",
       "      <th>interests.subarray_IDX</th>\n",
       "      <th>interests.interests_geetar_favorite</th>\n",
       "      <th>interests.interests_geetar_type</th>\n",
       "      <th>interests.interests</th>\n",
       "    </tr>\n",
       "  </thead>\n",
       "  <tbody>\n",
       "    <tr>\n",
       "      <th>0</th>\n",
       "      <td>2021-01-01</td>\n",
       "      <td>FDSA1234</td>\n",
       "      <td>happy</td>\n",
       "      <td>0</td>\n",
       "      <td>dave</td>\n",
       "      <td>0</td>\n",
       "      <td></td>\n",
       "      <td></td>\n",
       "      <td>kittens</td>\n",
       "    </tr>\n",
       "    <tr>\n",
       "      <th>1</th>\n",
       "      <td>2021-01-01</td>\n",
       "      <td>FDSA1234</td>\n",
       "      <td>happy</td>\n",
       "      <td>0</td>\n",
       "      <td>dave</td>\n",
       "      <td>1</td>\n",
       "      <td></td>\n",
       "      <td></td>\n",
       "      <td>sillyness</td>\n",
       "    </tr>\n",
       "    <tr>\n",
       "      <th>2</th>\n",
       "      <td>2021-01-01</td>\n",
       "      <td>FDSA1234</td>\n",
       "      <td>happy</td>\n",
       "      <td>0</td>\n",
       "      <td>dave</td>\n",
       "      <td>2</td>\n",
       "      <td>van halen</td>\n",
       "      <td>frankenstrat</td>\n",
       "      <td></td>\n",
       "    </tr>\n",
       "  </tbody>\n",
       "</table>\n",
       "</div>"
      ],
      "text/plain": [
       "    root.date root.user_id root.other_mood  people.subarray_IDX people.name  \\\n",
       "0  2021-01-01     FDSA1234           happy                    0        dave   \n",
       "1  2021-01-01     FDSA1234           happy                    0        dave   \n",
       "2  2021-01-01     FDSA1234           happy                    0        dave   \n",
       "\n",
       "   interests.subarray_IDX interests.interests_geetar_favorite  \\\n",
       "0                       0                                       \n",
       "1                       1                                       \n",
       "2                       2                           van halen   \n",
       "\n",
       "  interests.interests_geetar_type interests.interests  \n",
       "0                                             kittens  \n",
       "1                                           sillyness  \n",
       "2                    frankenstrat                      "
      ]
     },
     "metadata": {},
     "output_type": "display_data"
    },
    {
     "name": "stdout",
     "output_type": "stream",
     "text": [
      "Merged table tag: root_0<animals_1\n"
     ]
    },
    {
     "data": {
      "text/html": [
       "<div>\n",
       "<style scoped>\n",
       "    .dataframe tbody tr th:only-of-type {\n",
       "        vertical-align: middle;\n",
       "    }\n",
       "\n",
       "    .dataframe tbody tr th {\n",
       "        vertical-align: top;\n",
       "    }\n",
       "\n",
       "    .dataframe thead th {\n",
       "        text-align: right;\n",
       "    }\n",
       "</style>\n",
       "<table border=\"1\" class=\"dataframe\">\n",
       "  <thead>\n",
       "    <tr style=\"text-align: right;\">\n",
       "      <th></th>\n",
       "      <th>root.date</th>\n",
       "      <th>root.user_id</th>\n",
       "      <th>root.other_mood</th>\n",
       "      <th>animals.subarray_IDX</th>\n",
       "      <th>animals.name</th>\n",
       "      <th>animals.type</th>\n",
       "    </tr>\n",
       "  </thead>\n",
       "  <tbody>\n",
       "    <tr>\n",
       "      <th>0</th>\n",
       "      <td>2021-01-01</td>\n",
       "      <td>FDSA1234</td>\n",
       "      <td>happy</td>\n",
       "      <td>0</td>\n",
       "      <td>faith</td>\n",
       "      <td>cat</td>\n",
       "    </tr>\n",
       "    <tr>\n",
       "      <th>1</th>\n",
       "      <td>2021-01-01</td>\n",
       "      <td>FDSA1234</td>\n",
       "      <td>happy</td>\n",
       "      <td>1</td>\n",
       "      <td>shadow</td>\n",
       "      <td>doge</td>\n",
       "    </tr>\n",
       "    <tr>\n",
       "      <th>2</th>\n",
       "      <td>2021-01-02</td>\n",
       "      <td>ASDF4321</td>\n",
       "      <td></td>\n",
       "      <td>0</td>\n",
       "      <td>felix</td>\n",
       "      <td>ardvark</td>\n",
       "    </tr>\n",
       "  </tbody>\n",
       "</table>\n",
       "</div>"
      ],
      "text/plain": [
       "    root.date root.user_id root.other_mood  animals.subarray_IDX animals.name  \\\n",
       "0  2021-01-01     FDSA1234           happy                     0        faith   \n",
       "1  2021-01-01     FDSA1234           happy                     1       shadow   \n",
       "2  2021-01-02     ASDF4321                                     0        felix   \n",
       "\n",
       "  animals.type  \n",
       "0          cat  \n",
       "1         doge  \n",
       "2      ardvark  "
      ]
     },
     "metadata": {},
     "output_type": "display_data"
    }
   ],
   "source": [
    "# the resulting tables\n",
    "for merged_tag, merged_tag_df in tag2df.items():\n",
    "    print(f\"Merged table tag: {merged_tag}\")\n",
    "    display(merged_tag_df.head(3))"
   ]
  },
  {
   "cell_type": "code",
   "execution_count": 9,
   "id": "302968a0",
   "metadata": {
    "ExecuteTime": {
     "end_time": "2021-10-27T19:41:55.464109Z",
     "start_time": "2021-10-27T19:41:55.450644Z"
    }
   },
   "outputs": [
    {
     "data": {
      "text/html": [
       "<div>\n",
       "<style scoped>\n",
       "    .dataframe tbody tr th:only-of-type {\n",
       "        vertical-align: middle;\n",
       "    }\n",
       "\n",
       "    .dataframe tbody tr th {\n",
       "        vertical-align: top;\n",
       "    }\n",
       "\n",
       "    .dataframe thead th {\n",
       "        text-align: right;\n",
       "    }\n",
       "</style>\n",
       "<table border=\"1\" class=\"dataframe\">\n",
       "  <thead>\n",
       "    <tr style=\"text-align: right;\">\n",
       "      <th></th>\n",
       "      <th>animals</th>\n",
       "      <th>date</th>\n",
       "      <th>other</th>\n",
       "      <th>people</th>\n",
       "      <th>user_id</th>\n",
       "    </tr>\n",
       "  </thead>\n",
       "  <tbody>\n",
       "    <tr>\n",
       "      <th>0</th>\n",
       "      <td>[{'name': 'faith', 'type': 'cat'}, {'name': 's...</td>\n",
       "      <td>2021-01-01</td>\n",
       "      <td>{'mood': 'happy'}</td>\n",
       "      <td>[{'interests': [{'geetar': {'favorite': 'van h...</td>\n",
       "      <td>FDSA1234</td>\n",
       "    </tr>\n",
       "    <tr>\n",
       "      <th>1</th>\n",
       "      <td>[{'name': 'felix', 'type': 'ardvark'}]</td>\n",
       "      <td>2021-01-02</td>\n",
       "      <td>NaN</td>\n",
       "      <td>[{'interests': ['motorcycles', {'geetar': {'fa...</td>\n",
       "      <td>ASDF4321</td>\n",
       "    </tr>\n",
       "  </tbody>\n",
       "</table>\n",
       "</div>"
      ],
      "text/plain": [
       "                                             animals        date  \\\n",
       "0  [{'name': 'faith', 'type': 'cat'}, {'name': 's...  2021-01-01   \n",
       "1             [{'name': 'felix', 'type': 'ardvark'}]  2021-01-02   \n",
       "\n",
       "               other                                             people  \\\n",
       "0  {'mood': 'happy'}  [{'interests': [{'geetar': {'favorite': 'van h...   \n",
       "1                NaN  [{'interests': ['motorcycles', {'geetar': {'fa...   \n",
       "\n",
       "    user_id  \n",
       "0  FDSA1234  \n",
       "1  ASDF4321  "
      ]
     },
     "execution_count": 9,
     "metadata": {},
     "output_type": "execute_result"
    }
   ],
   "source": [
    "# compare with the original data\n",
    "pd.DataFrame(data)"
   ]
  },
  {
   "cell_type": "markdown",
   "id": "c5c17425",
   "metadata": {},
   "source": [
    "Each merged table is associated with a compound tag of a specific format:\n",
    "- the ```<``` delimiter separates a parent (left) from a child (right) table where the right table is a subarray under the parent table (```{a:[{b:c}]}``` $\\rightarrow$ ```a<b```)\n",
    "    - to track what index of the array the row is respective to, there is a corresponding ```subarray_IDX``` feature\n",
    "    - the ```FK``` of the child table on the right of a ```<``` maps to the PK of the table on the left of a ```<``` (the parent table)\n",
    "- the items inbetween the ```<``` delimiters give lower-level table details\n",
    "    - the left of a ```_``` is the 'overall feature' the table describes, being the key in the original object that maps to the subarray of information the table represents \n",
    "    - the right is the subarray 'level'\n",
    "- a ```.``` in a column name indicates that the feature was found in a nested object (```{a:{b:c}}``` $\\rightarrow$ ```a.b=c```)"
   ]
  }
 ],
 "metadata": {
  "kernelspec": {
   "display_name": "Python 3 (ipykernel)",
   "language": "python",
   "name": "python3"
  },
  "language_info": {
   "codemirror_mode": {
    "name": "ipython",
    "version": 3
   },
   "file_extension": ".py",
   "mimetype": "text/x-python",
   "name": "python",
   "nbconvert_exporter": "python",
   "pygments_lexer": "ipython3",
   "version": "3.9.7"
  },
  "latex_envs": {
   "LaTeX_envs_menu_present": true,
   "autoclose": false,
   "autocomplete": true,
   "bibliofile": "biblio.bib",
   "cite_by": "apalike",
   "current_citInitial": 1,
   "eqLabelWithNumbers": true,
   "eqNumInitial": 1,
   "hotkeys": {
    "equation": "Ctrl-E",
    "itemize": "Ctrl-I"
   },
   "labels_anchors": false,
   "latex_user_defs": false,
   "report_style_numbering": false,
   "user_envs_cfg": false
  },
  "toc": {
   "base_numbering": 1,
   "nav_menu": {},
   "number_sections": true,
   "sideBar": true,
   "skip_h1_title": false,
   "title_cell": "Table of Contents",
   "title_sidebar": "Contents",
   "toc_cell": false,
   "toc_position": {},
   "toc_section_display": true,
   "toc_window_display": false
  }
 },
 "nbformat": 4,
 "nbformat_minor": 5
}
