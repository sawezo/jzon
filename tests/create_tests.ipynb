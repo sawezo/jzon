{
 "cells": [
  {
   "cell_type": "markdown",
   "id": "88f082fe",
   "metadata": {},
   "source": [
    "# Create Tests"
   ]
  },
  {
   "cell_type": "markdown",
   "id": "f8f804e4",
   "metadata": {},
   "source": [
    "A helpful suite for creating program tests."
   ]
  },
  {
   "cell_type": "markdown",
   "id": "4b06fe5d",
   "metadata": {},
   "source": [
    "## Setup"
   ]
  },
  {
   "cell_type": "code",
   "execution_count": null,
   "id": "f772acab",
   "metadata": {
    "ExecuteTime": {
     "end_time": "2021-10-27T21:02:58.006169Z",
     "start_time": "2021-10-27T21:02:57.975225Z"
    }
   },
   "outputs": [],
   "source": [
    "%load_ext autoreload\n",
    "%autoreload 2"
   ]
  },
  {
   "cell_type": "code",
   "execution_count": null,
   "id": "c72619e7",
   "metadata": {
    "ExecuteTime": {
     "end_time": "2021-10-27T21:02:58.974971Z",
     "start_time": "2021-10-27T21:02:58.149801Z"
    }
   },
   "outputs": [],
   "source": [
    "# standard\n",
    "import sys\n",
    "from pprint import pprint as pretty\n",
    "\n",
    "# data science\n",
    "import pandas as pd\n",
    "\n",
    "# module\n",
    "sys.path.append(\"../src/\")\n",
    "import breakdown, merge"
   ]
  },
  {
   "cell_type": "markdown",
   "id": "c2d0a1c7",
   "metadata": {},
   "source": [
    "## Test Creation"
   ]
  },
  {
   "cell_type": "markdown",
   "id": "529f1877",
   "metadata": {},
   "source": [
    "### Breakdown "
   ]
  },
  {
   "cell_type": "markdown",
   "id": "6a486c55",
   "metadata": {},
   "source": [
    "The general process is: \n",
    "- define your data (make it so that it implements whatever you are testing)\n",
    "- make sure that the output is working as desired by running the process in DEBUG mode to see steps\n",
    "    - if it isn't, edit functionality <b>but make sure you don't break existing tests in the process</b>\n",
    "- run the following cell to generate the corresponding JSON/EXPECTED structures to place in ```mock_structures.py```. Then create a fixture and test in ```run.py```. Make sure your test worked and you are good to go!"
   ]
  },
  {
   "cell_type": "code",
   "execution_count": null,
   "id": "9ae14d5e",
   "metadata": {
    "ExecuteTime": {
     "end_time": "2021-10-27T21:02:59.107713Z",
     "start_time": "2021-10-27T21:02:59.079026Z"
    },
    "code_folding": []
   },
   "outputs": [],
   "source": [
    "# define your data here\n",
    "data = \\\n",
    "[{'animals': [{'name': 'faith', 'type': 'cat'},\n",
    "                                  {'name': 'shadow', 'type': 'doge'}],\n",
    "                      'date': '2021-01-01',\n",
    "                      'other': {'mood': 'happy'},\n",
    "                      'people': [{'interests': [{'geetar': {'favorite': 'van halen',\n",
    "                                                              'type': 'frankenstrat'}},\n",
    "                                                  'kittens',\n",
    "                                                  'sillyness'],\n",
    "                                  'name': 'dave'},\n",
    "                                  {'interests': ['horses', 'painting', 'mma'], 'name': 'becca'}],\n",
    "                      'user_id': 'FDSA1234'},\n",
    "                      {'animals': [{'name': 'felix', 'type': 'ardvark'}],\n",
    "                      'date': '2021-01-02',\n",
    "                      'people': [{'interests': ['motorcycles',\n",
    "                                                  {'geetar': {'favorite': 'hendrix',\n",
    "                                                              'type': 'fender'}}],\n",
    "                                  'name': 'mike'},\n",
    "                                  {'interests': ['reading', 'writing'], 'name': 'tom'}],\n",
    "                      'user_id': 'ASDF4321'}]"
   ]
  },
  {
   "cell_type": "code",
   "execution_count": null,
   "id": "4c20a701",
   "metadata": {
    "ExecuteTime": {
     "end_time": "2021-10-27T21:02:59.522332Z",
     "start_time": "2021-10-27T21:02:59.471435Z"
    }
   },
   "outputs": [],
   "source": [
    "# this is what your data looks like before running the function\n",
    "pd.DataFrame(data) # may not be possible all of the time for complex items"
   ]
  },
  {
   "cell_type": "code",
   "execution_count": null,
   "id": "f8873844",
   "metadata": {
    "ExecuteTime": {
     "end_time": "2021-10-27T21:03:00.108858Z",
     "start_time": "2021-10-27T21:02:59.942732Z"
    },
    "scrolled": true
   },
   "outputs": [],
   "source": [
    "# debug cell; make sure things are parsing as you want by going through the steps\n",
    "breakdown.dev(data, \"DEBUG\")"
   ]
  },
  {
   "cell_type": "markdown",
   "id": "fde7cf49",
   "metadata": {},
   "source": [
    "- issue: shouldn't have lists by final processing\n",
    "    - isn't picking up type2cols_to_breakdown"
   ]
  },
  {
   "cell_type": "markdown",
   "id": "0f125d3e",
   "metadata": {},
   "source": [
    "test: one separate row for each break type in single col"
   ]
  },
  {
   "cell_type": "code",
   "execution_count": null,
   "id": "06ecb444",
   "metadata": {
    "ExecuteTime": {
     "end_time": "2021-10-27T21:03:01.265725Z",
     "start_time": "2021-10-27T21:03:01.187529Z"
    },
    "code_folding": [
     8
    ],
    "scrolled": true
   },
   "outputs": [],
   "source": [
    "table_tag2df = breakdown.dev(data)\n",
    "\n",
    "expected = dict()\n",
    "for table, table_df in table_tag2df.items():\n",
    "    expected[table] = table_df.to_dict()\n",
    "\n",
    "print(\"\\n\"*5)\n",
    "print(\"JSON:\")\n",
    "pretty(data)\n",
    "\n",
    "print(\"EXPECTED: \")\n",
    "pretty(expected)"
   ]
  },
  {
   "cell_type": "markdown",
   "id": "674e53ab",
   "metadata": {},
   "source": [
    "### Merge"
   ]
  },
  {
   "cell_type": "code",
   "execution_count": null,
   "id": "08025e8a",
   "metadata": {
    "ExecuteTime": {
     "end_time": "2021-10-27T21:03:02.793224Z",
     "start_time": "2021-10-27T21:03:02.738467Z"
    }
   },
   "outputs": [],
   "source": [
    "merged_table_tag2df = merge.merge_tables(table_tag2df)"
   ]
  },
  {
   "cell_type": "code",
   "execution_count": null,
   "id": "c9c6f531",
   "metadata": {
    "ExecuteTime": {
     "end_time": "2021-10-27T21:03:03.425555Z",
     "start_time": "2021-10-27T21:03:03.395007Z"
    }
   },
   "outputs": [],
   "source": [
    "expected_merged = dict()\n",
    "for table, table_df in merged_table_tag2df.items():\n",
    "    expected_merged[table] = table_df.to_dict()\n",
    "\n",
    "print(\"EXPECTED: \")\n",
    "pretty(expected_merged)"
   ]
  }
 ],
 "metadata": {
  "kernelspec": {
   "display_name": "Python [conda env:ppr]",
   "language": "python",
   "name": "conda-env-ppr-py"
  },
  "language_info": {
   "codemirror_mode": {
    "name": "ipython",
    "version": 3
   },
   "file_extension": ".py",
   "mimetype": "text/x-python",
   "name": "python",
   "nbconvert_exporter": "python",
   "pygments_lexer": "ipython3",
   "version": "3.9.7"
  },
  "latex_envs": {
   "LaTeX_envs_menu_present": true,
   "autoclose": false,
   "autocomplete": true,
   "bibliofile": "biblio.bib",
   "cite_by": "apalike",
   "current_citInitial": 1,
   "eqLabelWithNumbers": true,
   "eqNumInitial": 1,
   "hotkeys": {
    "equation": "Ctrl-E",
    "itemize": "Ctrl-I"
   },
   "labels_anchors": false,
   "latex_user_defs": false,
   "report_style_numbering": false,
   "user_envs_cfg": false
  },
  "toc": {
   "base_numbering": 1,
   "nav_menu": {},
   "number_sections": true,
   "sideBar": true,
   "skip_h1_title": false,
   "title_cell": "Table of Contents",
   "title_sidebar": "Contents",
   "toc_cell": false,
   "toc_position": {},
   "toc_section_display": true,
   "toc_window_display": false
  }
 },
 "nbformat": 4,
 "nbformat_minor": 5
}
